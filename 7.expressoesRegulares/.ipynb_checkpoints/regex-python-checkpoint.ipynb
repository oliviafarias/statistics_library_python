{
 "cells": [
  {
   "cell_type": "code",
   "execution_count": 2,
   "id": "da4a0a34-ff38-4432-a290-03be33bf4987",
   "metadata": {
    "tags": []
   },
   "outputs": [],
   "source": [
    "import re"
   ]
  },
  {
   "cell_type": "markdown",
   "id": "4692204c-a8d2-4469-b960-a713de2db617",
   "metadata": {},
   "source": [
    "    Comando 'Match': Tenta \"casar\" a informação que você está passando para ele dentro de uma string;"
   ]
  },
  {
   "cell_type": "code",
   "execution_count": 4,
   "id": "44850427-246e-4089-8fa6-d123be2fbbea",
   "metadata": {
    "tags": []
   },
   "outputs": [
    {
     "name": "stdout",
     "output_type": "stream",
     "text": [
      "None\n"
     ]
    }
   ],
   "source": [
    "match = re.match('Antonio', 'Rua Antonio Basilio')\n",
    "print(match)"
   ]
  },
  {
   "cell_type": "markdown",
   "id": "e8e90cdb-4e28-48b5-a110-d866e140f618",
   "metadata": {},
   "source": [
    "Nesse caso ele retorna None, pois o match busca no inicio.\n"
   ]
  },
  {
   "cell_type": "markdown",
   "id": "1d9c2fc6-2519-41f9-a83c-1ef3781b395b",
   "metadata": {},
   "source": [
    "    Método 'search': Praticamente a mesma coisa do match, com a diferença de que ele procura na string inteira.\n",
    "    Permite a busca por um padrão e retorna informações completas, como a posição inicial e a final daquele padrão dentro de uma string, além, é claro, da própria string. Essa função retorna somente a primeira ocorrência de uma dada string."
   ]
  },
  {
   "cell_type": "code",
   "execution_count": 5,
   "id": "234d5a7d-3d44-427e-a2ee-569cfd272873",
   "metadata": {
    "tags": []
   },
   "outputs": [
    {
     "name": "stdout",
     "output_type": "stream",
     "text": [
      "<re.Match object; span=(4, 11), match='Antonio'>\n"
     ]
    }
   ],
   "source": [
    "search = re.search('Antonio', 'Rua Antonio Basilio')\n",
    "print(search)"
   ]
  },
  {
   "cell_type": "markdown",
   "id": "f935d4ef-dca7-47ac-b728-8b0cd58d8367",
   "metadata": {},
   "source": [
    "    Método 'Find all': O findall vai buscar tudo que estou pedindo a ele. Serve para retornar uma lista de ocorrências ou grupos de ocorrências de um padrão em uma string;\n",
    "    \n",
    "    Ex.: Busque o div dentro dessa string:"
   ]
  },
  {
   "cell_type": "code",
   "execution_count": 6,
   "id": "287e65e8-6b46-4ce9-80cf-0045177386d7",
   "metadata": {
    "tags": []
   },
   "outputs": [
    {
     "name": "stdout",
     "output_type": "stream",
     "text": [
      "['div', 'div']\n"
     ]
    }
   ],
   "source": [
    "findall = re.findall('div', '<div class=container> <div class=barra')\n",
    "print(findall)"
   ]
  },
  {
   "cell_type": "markdown",
   "id": "d9167c2b-e64f-41e0-bbfc-138de2df122a",
   "metadata": {},
   "source": [
    "    Método 'slip': Divide a string em uma lista exatamente onde você está pedindo.\n",
    "    Ex.: Dividir onde há um 'c'"
   ]
  },
  {
   "cell_type": "code",
   "execution_count": 9,
   "id": "aaa441af-8551-488f-920f-0438c96e2db6",
   "metadata": {
    "tags": []
   },
   "outputs": [
    {
     "name": "stdout",
     "output_type": "stream",
     "text": [
      "['Des', 'ompli', 'a']\n"
     ]
    }
   ],
   "source": [
    "split = re.split('c', 'Descomplica')\n",
    "print(split)"
   ]
  },
  {
   "cell_type": "markdown",
   "id": "726ae198-1b49-4f72-b06c-6cfd7aebfff6",
   "metadata": {},
   "source": [
    "    Método 'sub': Faz a substituição de uma string por outra dentro de uma string de busca\n",
    "    Ex.: Quero que pesquise por 'uma plataforma' e substitua por 'a melhor plataforma' na frase:"
   ]
  },
  {
   "cell_type": "code",
   "execution_count": 10,
   "id": "710c4959-9021-46cc-b4d9-2cafa6e4588a",
   "metadata": {
    "tags": []
   },
   "outputs": [
    {
     "name": "stdout",
     "output_type": "stream",
     "text": [
      "A Descomplica é a melhor plataforma de ensino\n"
     ]
    }
   ],
   "source": [
    "sub = re.sub('uma plataforma', 'a melhor plataforma', 'A Descomplica é uma plataforma de ensino')\n",
    "print(sub)"
   ]
  },
  {
   "cell_type": "markdown",
   "id": "72d03b91-67dc-4bc0-b3bf-32f358284609",
   "metadata": {},
   "source": [
    "    Método 'compile':\n",
    "    Busque todos os números de 0 a 9.\n",
    "    "
   ]
  },
  {
   "cell_type": "code",
   "execution_count": 11,
   "id": "be0d2658-a317-458e-a5e8-e05475a2f671",
   "metadata": {
    "tags": []
   },
   "outputs": [
    {
     "data": {
      "text/plain": [
       "['12', '10', '25']"
      ]
     },
     "execution_count": 11,
     "metadata": {},
     "output_type": "execute_result"
    }
   ],
   "source": [
    "p = re.compile(r'[0-9]+')\n",
    "p.findall('12 campos de futebol, 10 bolas, 25 chuteiras')"
   ]
  },
  {
   "cell_type": "code",
   "execution_count": null,
   "id": "c9302dcd-1537-4574-b974-0b03ddcb0ce7",
   "metadata": {},
   "outputs": [],
   "source": []
  }
 ],
 "metadata": {
  "kernelspec": {
   "display_name": "Python 3 (ipykernel)",
   "language": "python",
   "name": "python3"
  },
  "language_info": {
   "codemirror_mode": {
    "name": "ipython",
    "version": 3
   },
   "file_extension": ".py",
   "mimetype": "text/x-python",
   "name": "python",
   "nbconvert_exporter": "python",
   "pygments_lexer": "ipython3",
   "version": "3.11.5"
  }
 },
 "nbformat": 4,
 "nbformat_minor": 5
}
