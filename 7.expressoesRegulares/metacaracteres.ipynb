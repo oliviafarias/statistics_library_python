{
  "nbformat": 4,
  "nbformat_minor": 0,
  "metadata": {
    "colab": {
      "provenance": []
    },
    "kernelspec": {
      "name": "python3",
      "display_name": "Python 3"
    },
    "language_info": {
      "name": "python"
    }
  },
  "cells": [
    {
      "cell_type": "markdown",
      "source": [
        "Expressões Regulares\n",
        "\n",
        "  Metacaracteres:\n",
        "\n",
        " - ' . ' (ponto): A ideia do ponto é encontrar qualquer outro\n",
        " caractere e nos ajudar a encontrar o padrão que queremos;\n",
        "Ex.: Quero encontrar uma palavra como 'patterns' -\n",
        "  pat.\n",
        "\n",
        "- Lista: Colocar dentro da lista as letras que gostariamos de buscar;\n",
        "Ex.: Para procurar 'não'ou 'nao' , procura-se numa lista -\n",
        "  n[aã]o\n",
        "\n",
        "- Lista Negada: Colocar o que não quero procurar o que está dentro dela;\n",
        "Ex.: Não quero que procure com Ã maiúsculo -\n",
        "  n[^Ã]o\n",
        "\n",
        "- Opcional (Interrogação ?):\n",
        "Ex.: Tenho palavras como 'começar', 'comer', 'come', e quero procurar palavras que contenham 'come' e coloco dentro de uma lista o que quero continuar procurando -\n",
        "  come[r!]?\n",
        "\n",
        "- '+' : Um metacaractere que indica a ocorrência do caractere anterior uma ou mais vezes na busca;\n",
        "Ex.: Tenho palavras como 'fala', 'aaaaa', 'falaaaaa' -\n",
        "Ex.: fal[a]+"
      ],
      "metadata": {
        "id": "wGbGltW6EJiY"
      }
    },
    {
      "cell_type": "code",
      "source": [],
      "metadata": {
        "id": "rvlqGj0uHwe_"
      },
      "execution_count": null,
      "outputs": []
    },
    {
      "cell_type": "markdown",
      "source": [
        "Lib re para utilizar expressões regulares no python\n",
        "\n",
        "https://docs.python.org/pt-br/3/library/re.html"
      ],
      "metadata": {
        "id": "LVCLmN18H1Bp"
      }
    },
    {
      "cell_type": "code",
      "source": [],
      "metadata": {
        "id": "FaEXge9FH9sq"
      },
      "execution_count": null,
      "outputs": []
    }
  ]
}